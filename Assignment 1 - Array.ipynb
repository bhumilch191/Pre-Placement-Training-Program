{
 "cells": [
  {
   "cell_type": "code",
   "execution_count": 1,
   "id": "1db42b4d",
   "metadata": {},
   "outputs": [
    {
     "name": "stdout",
     "output_type": "stream",
     "text": [
      "[0, 1]\n"
     ]
    }
   ],
   "source": [
    "# Q1. Given an array of integers nums and an integer target, return indices of the \n",
    "#     two numbers such that they add up to target.\n",
    "#     You may assume that each input would have exactly one solution, and you may \n",
    "#     not use the same element twice.\n",
    "#     You can return the answer in any order.\n",
    "\n",
    "# Example:\n",
    "# Input: nums = [2,7,11,15], target = 9\n",
    "# Output0 [0,1]\n",
    "\n",
    "# Explanation: Because nums[0] + nums[1] == 9, we return [0, 1]\n",
    "\n",
    "# Over all Time complexity:O(n*n)\n",
    "def Add(n,t):\n",
    "    for i in range(len(n)): # Time complexity:O(n)\n",
    "        for j in range(i+1,len(n)): # Time complexity:O(n-1)\n",
    "            if n[i] + n[j] == t:\n",
    "                return [i,j]\n",
    "nums = [2,7,11,15]\n",
    "target = 9\n",
    "print(Add(nums,target))"
   ]
  },
  {
   "cell_type": "code",
   "execution_count": 2,
   "id": "915bd534",
   "metadata": {},
   "outputs": [
    {
     "name": "stdout",
     "output_type": "stream",
     "text": [
      "(2, [2, 2, '_', '_'])\n"
     ]
    }
   ],
   "source": [
    "# Q2. Given an integer array nums and an integer val, remove all occurrences\n",
    "#     of val in nums in-place. The order of the elements may be changed. \n",
    "#     Then return the number of elements in nums which are not equal to val.\n",
    "    \n",
    "#     Consider the number of elements in nums which are not equal to val be k, \n",
    "#     to get accepted, you need to do the following things:\n",
    "#         - Change the array nums such that the first k elements of nums contain \n",
    "#         the elements which are not equal to val. The remaining elements of nums \n",
    "#         are not important as well as the size of nums.\n",
    "#         - Return k.\n",
    "\n",
    "# Example :\n",
    "# Input: nums = [3,2,2,3], val = 3\n",
    "# Output: 2, nums = [2,2,_,_]\n",
    "\n",
    "# Explanation: Your function should return k = 2, with the first two elements of \n",
    "# nums being 2. It does not matter what you leave beyond the returned k (hence they are underscores)\n",
    "\n",
    "\n",
    "def RemoveElement(nums,val):\n",
    "    k = 0\n",
    "    j=len(nums)-1\n",
    "    for i in range(len(nums)):\n",
    "        if nums[i] == val and nums[j] == val:\n",
    "            nums[j]='_'\n",
    "            j-=1\n",
    "            k+=1\n",
    "            if nums[i] == val or nums[j] == val:\n",
    "                nums[i],nums[j] = nums[j],nums[i]\n",
    "                k+=1\n",
    "                nums[j]='_'\n",
    "    return k,nums\n",
    "nums = [3,2,2,3]\n",
    "val = 3\n",
    "print(RemoveElement(nums,val))"
   ]
  },
  {
   "cell_type": "code",
   "execution_count": 3,
   "id": "d36afe4d",
   "metadata": {},
   "outputs": [
    {
     "name": "stdout",
     "output_type": "stream",
     "text": [
      "2\n"
     ]
    }
   ],
   "source": [
    "# Q3. Given a sorted array of distinct integers and a target value, return the index if the \n",
    "# target is found. If not, return the index where it would be if it were inserted in order.\n",
    "\n",
    "# You must write an algorithm with O(log n) runtime complexity.\n",
    "\n",
    "# Example 1:\n",
    "# Input: nums = [1,3,5,6], target = 5\n",
    "\n",
    "# Output: 2\n",
    "\n",
    "def removeTargeteElement(nums,t):\n",
    "    for i in range(len(nums)):\n",
    "        if nums[i] == t:\n",
    "            return i\n",
    "    else:\n",
    "        nums.append(t)\n",
    "        nums.sort()\n",
    "        return nums\n",
    "nums = [1,3,5,6]\n",
    "target = 5\n",
    "print(removeTargeteElement(nums,target))"
   ]
  },
  {
   "cell_type": "code",
   "execution_count": 4,
   "id": "cb7e5686",
   "metadata": {},
   "outputs": [
    {
     "name": "stdout",
     "output_type": "stream",
     "text": [
      "[1, 2, 4]\n"
     ]
    }
   ],
   "source": [
    "# Q4. You are given a large integer represented as an integer array digits, where each\n",
    "# digits[i] is the ith digit of the integer. The digits are ordered from most significant \n",
    "# to least significant in left-to-right order. The large integer does not contain any leading 0's.\n",
    "# Increment the large integer by one and return the resulting array of digits.\n",
    "\n",
    "# Example 1:\n",
    "# Input: digits = [1,2,3]\n",
    "# Output: [1,2,4]\n",
    "\n",
    "# Explanation: The array represents the integer 123.\n",
    "\n",
    "# Incrementing by one gives 123 + 1 = 124.\n",
    "# Thus, the result should be [1,2,4].\n",
    "\n",
    "def IncrementLargeInteger(d):\n",
    "    d.sort()\n",
    "    for i in range(len(d)):\n",
    "        for j in range(i+1,len(d)):\n",
    "            if d[i] < d[j]:\n",
    "                j+=1\n",
    "                d[j]+=1\n",
    "                return d\n",
    "digits = [1,2,3]\n",
    "print(IncrementLargeInteger(digits))"
   ]
  },
  {
   "cell_type": "code",
   "execution_count": 5,
   "id": "c5379e84",
   "metadata": {},
   "outputs": [
    {
     "name": "stdout",
     "output_type": "stream",
     "text": [
      "[1, 2, 2, 3, 5, 6]\n"
     ]
    }
   ],
   "source": [
    "# Q5. You are given two integer arrays nums1 and nums2, sorted in non-decreasing order, and two integers m\n",
    "# and n, representing the number of elements in nums1 and nums2 respectively.\n",
    "\n",
    "# Merge nums1 and nums2 into a single array sorted in non-decreasing order.\n",
    "\n",
    "# The final sorted array should not be returned by the function, but instead be stored inside the array nums1.\n",
    "# To accommodate this, nums1 has a length of m + n, where the first m elements denote the elements that should \n",
    "# be merged, and the last n elements are set to 0 and should be ignored. nums2 has a length of n.\n",
    "\n",
    "# Example 1:\n",
    "# Input: nums1 = [1,2,3,0,0,0], m = 3, nums2 = [2,5,6], n = 3\n",
    "# Output: [1,2,2,3,5,6]\n",
    "\n",
    "# Explanation: The arrays we are merging are [1,2,3] and [2,5,6].\n",
    "# The result of the merge is [1,2,2,3,5,6] with the underlined elements coming from nums1\n",
    "\n",
    "\n",
    "def test(n1,n2):\n",
    "    for i in range(len(n1)):\n",
    "        for j in range(len(n2)):\n",
    "            if n1[i] == 0:\n",
    "                n1[i],n2[j] = n2[j],n1[i]\n",
    "    n1.sort()\n",
    "    return n1\n",
    "nums1 = [1,2,3,0,0,0]\n",
    "nums2 = [2,5,6]\n",
    "print(test(nums1,nums2))"
   ]
  },
  {
   "cell_type": "code",
   "execution_count": 6,
   "id": "73916bdf",
   "metadata": {},
   "outputs": [
    {
     "name": "stdout",
     "output_type": "stream",
     "text": [
      "True\n"
     ]
    }
   ],
   "source": [
    "# Q6. Given an integer array nums, return true if any value appears at least twice in the array,\n",
    "# and return false if every element is distinct.\n",
    "\n",
    "# Example 1:\n",
    "# Input: nums = [1,2,3,1]\n",
    "# Output: true\n",
    "\n",
    "def test(nums):\n",
    "    for i in range(len(nums)):\n",
    "        for j in range(i+1,len(nums)):\n",
    "            if nums[i] == nums[j]:\n",
    "                return True\n",
    "    else:\n",
    "        return False\n",
    "nums = [1,2,3,1]\n",
    "print(test(nums))"
   ]
  },
  {
   "cell_type": "code",
   "execution_count": 7,
   "id": "93528c89",
   "metadata": {},
   "outputs": [
    {
     "name": "stdout",
     "output_type": "stream",
     "text": [
      "[1, 3, 12, 0, 0]\n"
     ]
    }
   ],
   "source": [
    "# Q7. Given an integer array nums, move all 0's to the end of it while maintaining the r\n",
    "# elative order of the nonzero elements.\n",
    "\n",
    "# Note that you must do this in-place without making a copy of the array.\n",
    "\n",
    "# Example 1:\n",
    "# Input: nums = [0,1,0,3,12]\n",
    "# Output: [1,3,12,0,0]\n",
    "\n",
    "def test(nums):\n",
    "    for i in range(len(nums)):\n",
    "        for j in range(i+1,len(nums)):\n",
    "            if(nums[i] < nums[j]):\n",
    "                if nums[i] == 0 :\n",
    "                    nums[i],nums[j]=nums[j],nums[i]\n",
    "                    i+=1\n",
    "            if (nums[j] == 0):\n",
    "                j+=1\n",
    "    return nums\n",
    "nums = [0,1,0,3,12]\n",
    "print(test(nums))"
   ]
  },
  {
   "cell_type": "code",
   "execution_count": 8,
   "id": "f90b07c4",
   "metadata": {},
   "outputs": [
    {
     "name": "stdout",
     "output_type": "stream",
     "text": [
      "[2, 3]\n"
     ]
    }
   ],
   "source": [
    "# Q8. You have a set of integers s, which originally contains all the numbers from 1 to n.\n",
    "# Unfortunately, due to some error, one of the numbers in s got duplicated to another number \n",
    "# in the set, which results in repetition of one number and loss of another number.\n",
    "\n",
    "# You are given an integer array nums representing the data status of this set after the error.\n",
    "# Find the number that occurs twice and the number that is missing and return them in the form of an array.\n",
    "\n",
    "# Example 1:\n",
    "# Input: nums = [1,2,2,4]\n",
    "# Output: [2,3]\n",
    "\n",
    "def test(nums):\n",
    "    for i in range(len(nums)):\n",
    "        for j in range(i+1,len(nums)):\n",
    "            if nums[i]!=nums[j]:\n",
    "                i+=1\n",
    "        return [i,i+1]\n",
    "nums = [1,2,2,4]\n",
    "print(test(nums))"
   ]
  },
  {
   "cell_type": "code",
   "execution_count": null,
   "id": "3d4f54e5",
   "metadata": {},
   "outputs": [],
   "source": []
  }
 ],
 "metadata": {
  "kernelspec": {
   "display_name": "Python 3 (ipykernel)",
   "language": "python",
   "name": "python3"
  },
  "language_info": {
   "codemirror_mode": {
    "name": "ipython",
    "version": 3
   },
   "file_extension": ".py",
   "mimetype": "text/x-python",
   "name": "python",
   "nbconvert_exporter": "python",
   "pygments_lexer": "ipython3",
   "version": "3.10.5"
  }
 },
 "nbformat": 4,
 "nbformat_minor": 5
}
