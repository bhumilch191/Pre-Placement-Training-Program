{
 "cells": [
  {
   "cell_type": "code",
   "execution_count": 1,
   "id": "d43c5b0f",
   "metadata": {},
   "outputs": [
    {
     "name": "stdout",
     "output_type": "stream",
     "text": [
      "Mean: 20.0\n"
     ]
    }
   ],
   "source": [
    "# 19. Write a function called ‘calculate_mean’ that takes a list of numbers as input and returns\n",
    "# the mean (average) of the numbers. The function should calculate the mean using the sum of the \n",
    "# numbers divided by the total count.\n",
    "\n",
    "\n",
    "def Sum(numbers):\n",
    "    x = 0\n",
    "    for i in numbers:\n",
    "        x+=i\n",
    "    return x\n",
    "def Len(numbers):\n",
    "    x = 0\n",
    "    for i in numbers:\n",
    "        x+=1\n",
    "    return x\n",
    "\n",
    "def calculate_mean(numbers):\n",
    "    total = Sum(numbers)\n",
    "    count = Len(numbers)\n",
    "    mean = total / count\n",
    "    return mean\n",
    "\n",
    "data = [10, 15, 20, 25, 30]\n",
    "mean_value = calculate_mean(data)\n",
    "print(\"Mean:\", mean_value)"
   ]
  },
  {
   "cell_type": "code",
   "execution_count": null,
   "id": "a7720fd8",
   "metadata": {},
   "outputs": [],
   "source": []
  }
 ],
 "metadata": {
  "kernelspec": {
   "display_name": "Python 3 (ipykernel)",
   "language": "python",
   "name": "python3"
  },
  "language_info": {
   "codemirror_mode": {
    "name": "ipython",
    "version": 3
   },
   "file_extension": ".py",
   "mimetype": "text/x-python",
   "name": "python",
   "nbconvert_exporter": "python",
   "pygments_lexer": "ipython3",
   "version": "3.10.5"
  }
 },
 "nbformat": 4,
 "nbformat_minor": 5
}
