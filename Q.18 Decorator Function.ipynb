{
 "cells": [
  {
   "cell_type": "code",
   "execution_count": 5,
   "id": "6d9e6d23",
   "metadata": {},
   "outputs": [
    {
     "data": {
      "text/plain": [
       "2.000053882598877"
      ]
     },
     "execution_count": 5,
     "metadata": {},
     "output_type": "execute_result"
    }
   ],
   "source": [
    "# 18. Implement a decorator function called ‘timer’ that measures the execution time of a function.\n",
    "# The ‘timer’ decorator should print the time taken by the decorated function to execute.\n",
    "# Use the ‘time’ module in Python to calculate the execution time.\n",
    "\n",
    "\n",
    "import time\n",
    "\n",
    "def timer(func):\n",
    "    def wrap():\n",
    "        start = time.time()\n",
    "        func()\n",
    "        end = time.time()\n",
    "        return end-start\n",
    "    return wrap\n",
    "\n",
    "@timer\n",
    "def my_function():\n",
    "    time.sleep(2)\n",
    "\n",
    "my_function()\n",
    "# Output:\n",
    "# \"Execution time: 2.00123 seconds\""
   ]
  },
  {
   "cell_type": "code",
   "execution_count": null,
   "id": "cf1365fd",
   "metadata": {},
   "outputs": [],
   "source": []
  }
 ],
 "metadata": {
  "kernelspec": {
   "display_name": "Python 3 (ipykernel)",
   "language": "python",
   "name": "python3"
  },
  "language_info": {
   "codemirror_mode": {
    "name": "ipython",
    "version": 3
   },
   "file_extension": ".py",
   "mimetype": "text/x-python",
   "name": "python",
   "nbconvert_exporter": "python",
   "pygments_lexer": "ipython3",
   "version": "3.10.5"
  }
 },
 "nbformat": 4,
 "nbformat_minor": 5
}
