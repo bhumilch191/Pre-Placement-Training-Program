{
 "cells": [
  {
   "cell_type": "code",
   "execution_count": 1,
   "id": "f23e17cc",
   "metadata": {},
   "outputs": [
    {
     "name": "stdout",
     "output_type": "stream",
     "text": [
      "4\n"
     ]
    }
   ],
   "source": [
    "# Question 1\n",
    "# Given an integer array nums of 2n integers, group these integers into n pairs \n",
    "# (a1, b1), (a2, b2),..., (an, bn) such that the sum of min(ai, bi) for all i is maximized. Return the maximized sum.\n",
    "\n",
    "# Example 1:\n",
    "# Input: nums = [1,4,3,2]\n",
    "# Output: 4\n",
    "\n",
    "# Explanation: All possible pairings (ignoring the ordering of elements) are:\n",
    "\n",
    "# 1. (1, 4), (2, 3) -> min(1, 4) + min(2, 3) = 1 + 2 = 3\n",
    "# 2. (1, 3), (2, 4) -> min(1, 3) + min(2, 4) = 1 + 2 = 3\n",
    "# 3. (1, 2), (3, 4) -> min(1, 2) + min(3, 4) = 1 + 3 = 4\n",
    "# So the maximum possible sum is 4\n",
    "\n",
    "\n",
    "def test(nums):\n",
    "    nums.sort()\n",
    "    max_sum = 0\n",
    "    for i in range(0,len(nums),2):\n",
    "        max_sum+=nums[i]\n",
    "    return max_sum\n",
    "nums = [1,4,3,2]\n",
    "print(test(nums))"
   ]
  },
  {
   "cell_type": "code",
   "execution_count": 2,
   "id": "e5d2209f",
   "metadata": {},
   "outputs": [
    {
     "name": "stdout",
     "output_type": "stream",
     "text": [
      "3\n"
     ]
    }
   ],
   "source": [
    "# Question 2\n",
    "# Alice has n candies, where the ith candy is of type candyType[i]. Alice noticed that she started to \n",
    "# gain weight, so she visited a doctor. \n",
    "\n",
    "# The doctor advised Alice to only eat n / 2 of the candies she has (n is always even). Alice likes\n",
    "# her candies very much, and she wants to eat the maximum number of different types of candies while \n",
    "# still following the doctor's advice. \n",
    "\n",
    "# Given the integer array candyType of length n, return the maximum number of different types of candies \n",
    "# she can eat if she only eats n / 2 of them.\n",
    "\n",
    "# Example 1:\n",
    "# Input: candyType = [1,1,2,2,3,3]\n",
    "# Output: 3\n",
    "\n",
    "# Explanation: Alice can only eat 6 / 2 = 3 candies. Since there are only 3 types, she can eat one of each type.\n",
    "\n",
    "def test(n):\n",
    "    c=0\n",
    "    for i in range(len(n)-1):\n",
    "            if n[i]==n[i+1]:\n",
    "                c+=1\n",
    "                i+=1\n",
    "            i+=1\n",
    "    return c\n",
    "\n",
    "candyType = [1,1,2,2,3,3]\n",
    "print(test(candyType))"
   ]
  },
  {
   "cell_type": "code",
   "execution_count": 3,
   "id": "5bef5c3e",
   "metadata": {},
   "outputs": [
    {
     "name": "stdout",
     "output_type": "stream",
     "text": [
      "[3, 2, 2, 2, 3]\n"
     ]
    }
   ],
   "source": [
    "# Question 3\n",
    "# We define a harmonious array as an array where the difference between its maximum value\n",
    "# and its minimum value is exactly 1.\n",
    "\n",
    "# Given an integer array nums, return the length of its longest harmonious subsequence\n",
    "# among all its possible subsequences.\n",
    "\n",
    "# A subsequence of an array is a sequence that can be derived from the array by deleting some\n",
    "# or no elements without changing the order of the remaining elements.\n",
    "\n",
    "# Example 1:\n",
    "# Input: nums = [1,3,2,2,5,2,3,7]\n",
    "# Output: 5\n",
    "\n",
    "# Explanation: The longest harmonious subsequence is [3,2,2,2,3].\n",
    "\n",
    "def test(n):\n",
    "    n1=[]\n",
    "    for i in range(len(n)-1):\n",
    "        if (n[i]-n[i+1])**2 == 1:\n",
    "            n1.append(n[i])\n",
    "        else:\n",
    "            if n[i]!=1:\n",
    "                if ((max(n1)-n[i])**2 == 1) or ((min(n1)-n[i])**2 == 1):\n",
    "                    n1.append(n[i])\n",
    "        i+=1\n",
    "    return n1\n",
    "nums = [1,3,2,2,5,2,3,7]\n",
    "print(test(nums))"
   ]
  },
  {
   "cell_type": "code",
   "execution_count": 4,
   "id": "b40f0d0c",
   "metadata": {},
   "outputs": [
    {
     "name": "stdout",
     "output_type": "stream",
     "text": [
      "True\n"
     ]
    }
   ],
   "source": [
    "# Question 4\n",
    "# You have a long flowerbed in which some of the plots are planted, and some are not.\n",
    "# However, flowers cannot be planted in adjacent plots.\n",
    "# Given an integer array flowerbed containing 0's and 1's, where 0 means empty and 1 means\n",
    "# not empty, and an integer n, return true if n new flowers can be planted in the flowerbed \n",
    "# without violating the no-adjacent-flowers rule and false otherwise.\n",
    "\n",
    "# Example 1:\n",
    "# Input: flowerbed = [1,0,0,0,1], n = 1\n",
    "# Output: true\n",
    "\n",
    "def test(n,k):\n",
    "    for i in range(len(n)):\n",
    "        if n[i] == 0:\n",
    "                n[i]=k\n",
    "                return True\n",
    "flowerbed = [1,0,0,0,1]\n",
    "n = 1\n",
    "print(test(flowerbed,n))"
   ]
  },
  {
   "cell_type": "code",
   "execution_count": 5,
   "id": "9704510d",
   "metadata": {},
   "outputs": [
    {
     "name": "stdout",
     "output_type": "stream",
     "text": [
      "6\n"
     ]
    }
   ],
   "source": [
    "# Question 5\n",
    "# Given an integer array nums, find three numbers whose product is maximum and return the maximum product.\n",
    "\n",
    "# Example 1:\n",
    "# Input: nums = [1,2,3]\n",
    "# Output: 6\n",
    "\n",
    "def test(nums):\n",
    "    n=len(nums)\n",
    "    return max(nums[n-1] * nums[n-2]* nums[n-3],nums[0]*nums[1]*nums[n-1])\n",
    "nums = [1,2,3]\n",
    "print(test(nums))"
   ]
  },
  {
   "cell_type": "code",
   "execution_count": 6,
   "id": "65c99a0b",
   "metadata": {},
   "outputs": [
    {
     "name": "stdout",
     "output_type": "stream",
     "text": [
      "4\n"
     ]
    }
   ],
   "source": [
    "# Question 6\n",
    "# Given an array of integers nums which is sorted in ascending order, and an integer target,\n",
    "# write a function to search target in nums. If target exists, then return its index. Otherwise,\n",
    "# return -1.\n",
    "\n",
    "# You must write an algorithm with O(log n) runtime complexity.\n",
    "\n",
    "# Input: nums = [-1,0,3,5,9,12], target = 9\n",
    "# Output: 4\n",
    "\n",
    "# Explanation: 9 exists in nums and its index is 4\n",
    "\n",
    "def test(nums,t):\n",
    "    low = 0\n",
    "    high = len(nums)-1\n",
    "    while(low<=high):\n",
    "        mid = low + (high-low)//2\n",
    "        \n",
    "        if nums[mid]==t:\n",
    "            return mid\n",
    "        elif nums[mid] < t:\n",
    "            low = mid + 1\n",
    "        else:\n",
    "            high = mid - 1\n",
    "    return -1\n",
    "\n",
    "num = [-1,0,3,5,9,12]\n",
    "target = 9\n",
    "print(test(num,target))"
   ]
  },
  {
   "cell_type": "code",
   "execution_count": 7,
   "id": "1af479f5",
   "metadata": {},
   "outputs": [
    {
     "name": "stdout",
     "output_type": "stream",
     "text": [
      "True\n"
     ]
    }
   ],
   "source": [
    "# Question 7\n",
    "# An array is monotonic if it is either monotone increasing or monotone decreasing.\n",
    "\n",
    "# An array nums is monotone increasing if for all i <= j, nums[i] <= nums[j]. An array nums is\n",
    "# monotone decreasing if for all i <= j, nums[i] >= nums[j].\n",
    "\n",
    "# Given an integer array nums, return true if the given array is monotonic, or false otherwise.\n",
    "\n",
    "# Example 1:\n",
    "# Input: nums = [1,2,2,3]\n",
    "# Output: true\n",
    "\n",
    "def test(nums):\n",
    "    for i in range(len(nums)):\n",
    "        for j in range(len(nums)):\n",
    "            if nums[i]<=nums[j]:\n",
    "                return True\n",
    "            else:\n",
    "                return False\n",
    "nums = [1,2,2,3]\n",
    "print(test(nums))"
   ]
  },
  {
   "cell_type": "code",
   "execution_count": 8,
   "id": "a15bbedc",
   "metadata": {},
   "outputs": [
    {
     "name": "stdout",
     "output_type": "stream",
     "text": [
      "0\n"
     ]
    }
   ],
   "source": [
    "# Question 8\n",
    "# You are given an integer array nums and an integer k.\n",
    "\n",
    "# In one operation, you can choose any index i where 0 <= i < nums.length and change nums[i] to \n",
    "# nums[i] + x where x is an integer from the range [-k, k]. You can apply this operation at most once for each index i.\n",
    "\n",
    "# The score of nums is the difference between the maximum and minimum elements in nums.\n",
    "\n",
    "# Return the minimum score of nums after applying the mentioned operation at most once for each index in it.\n",
    "\n",
    "# Example 1:\n",
    "# Input: nums = [1], k = 0\n",
    "# Output: 0\n",
    "\n",
    "# Explanation: The score is max(nums) - min(nums) = 1 - 1 = 0.\n",
    "\n",
    "def minimumScore(nums, k):\n",
    "    min_score = float('inf')\n",
    "    for x in range(-k, k+1):\n",
    "        min_num = float('inf')\n",
    "        max_num = float('-inf')\n",
    "        \n",
    "        for num in nums:\n",
    "            modified_num = num + x\n",
    "            min_num = min(min_num, modified_num)\n",
    "            max_num = max(max_num, modified_num)\n",
    "        score = max_num - min_num\n",
    "        min_score = min(min_score, score)\n",
    "\n",
    "    return min_score\n",
    "nums = [1]\n",
    "k = 0\n",
    "print(minimumScore(nums,k))"
   ]
  }
 ],
 "metadata": {
  "kernelspec": {
   "display_name": "Python 3 (ipykernel)",
   "language": "python",
   "name": "python3"
  },
  "language_info": {
   "codemirror_mode": {
    "name": "ipython",
    "version": 3
   },
   "file_extension": ".py",
   "mimetype": "text/x-python",
   "name": "python",
   "nbconvert_exporter": "python",
   "pygments_lexer": "ipython3",
   "version": "3.10.5"
  }
 },
 "nbformat": 4,
 "nbformat_minor": 5
}
