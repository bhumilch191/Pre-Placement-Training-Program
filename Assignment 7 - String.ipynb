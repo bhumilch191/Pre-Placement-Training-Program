{
 "cells": [
  {
   "cell_type": "code",
   "execution_count": 1,
   "id": "405e1182",
   "metadata": {},
   "outputs": [
    {
     "name": "stdout",
     "output_type": "stream",
     "text": [
      "bacdfeg\n"
     ]
    }
   ],
   "source": [
    "# Question 5\n",
    "\n",
    "#Given a string s and an integer k,reverse the first k characters for every 2k characters counting from the start of the string.\n",
    "\n",
    "# If there are fewer than k characters left, reverse all of them. If there are less than 2k but greater than or equal to\n",
    "# k characters, then reverse the first k characters and leave the other as original.\n",
    "\n",
    "# Example 1:\n",
    "# Input: s = \"abcdefg\", k = 2\n",
    "# Output: \"bacdfeg\"\n",
    "\n",
    "def test(s,k):\n",
    "    n = len(s)\n",
    "    if (n < k):\n",
    "        i=0\n",
    "        if(i < n-1):\n",
    "            s[i],s[i+1] = s[i+1],s[i]\n",
    "            i+1\n",
    "        # join list element for list to string.\n",
    "        return ''.join(s)\n",
    "    else: \n",
    "        while(n > k):\n",
    "            for i in range(n-1):\n",
    "                if i == 0 or i == k:\n",
    "                    s[i],s[i+1] = s[i+1],s[i]\n",
    "                    k*= 2\n",
    "        return ''.join(s)\n",
    "s = \"abcdefg\"\n",
    "k = 2\n",
    "# convert string to list. Because string is immutable.\n",
    "print(test(list(s),k))"
   ]
  },
  {
   "cell_type": "code",
   "execution_count": 2,
   "id": "d62108aa",
   "metadata": {},
   "outputs": [
    {
     "name": "stdout",
     "output_type": "stream",
     "text": [
      "True\n"
     ]
    }
   ],
   "source": [
    "# Question 6\n",
    "# Given two strings s and goal, return true if and only if s can become goal after some number of shifts on s.\n",
    "\n",
    "# A shift on s consists of moving the leftmost character of s to the rightmost position.\n",
    "\n",
    "# - For example, if s = \"abcde\", then it will be \"bcdea\" after one shift.\n",
    "\n",
    "# Example 1:\n",
    "# Input: s = \"abcde\", goal = \"cdeab\"\n",
    "# Output: true\n",
    "\n",
    "def test(s,goal):\n",
    "    # first element of list assign to temporary variable\n",
    "    temp = s[0]\n",
    "    n = len(s)\n",
    "    # shift all element to backward\n",
    "    for i in range(n-1):\n",
    "        s[i] = s[i+1]\n",
    "    # swap between temporery and last element of list\n",
    "    temp,s[n-1] = s[n-1],temp\n",
    "    \n",
    "    \n",
    "    c=0\n",
    "    # compare each and every element of s with the elements of goal\n",
    "    for i in range(n):\n",
    "        if s[i] == goal[i]:\n",
    "            # when element is equal count c increase by 1\n",
    "            c+=1\n",
    "    \n",
    "    if n == c:\n",
    "        return True\n",
    "    else:\n",
    "        return test(s,goal)\n",
    "s = \"abcde\"\n",
    "goal = \"cdeab\"\n",
    "\n",
    "# convert string to list. Because string is immutable.\n",
    "print(test(list(s),goal))"
   ]
  },
  {
   "cell_type": "code",
   "execution_count": 3,
   "id": "44a53429",
   "metadata": {},
   "outputs": [
    {
     "name": "stdout",
     "output_type": "stream",
     "text": [
      "True\n"
     ]
    }
   ],
   "source": [
    "# Question 7\n",
    "\n",
    "# Given two strings s and t, return true *if they are equal when both are typed into empty text editors*. \n",
    "# '#' means a backspace character.\n",
    "\n",
    "# Note that after backspacing an empty text, the text will continue empty.\n",
    "\n",
    "# Example 1:\n",
    "# Input: s = \"ab#c\", t = \"ad#c\"\n",
    "#     Output: true\n",
    "\n",
    "# Explanation: Both s and t become \"ac\".\n",
    "\n",
    "\n",
    "def test(string):\n",
    "    final_str = []\n",
    "    for char in string:\n",
    "        if char != '#':\n",
    "            final_str.append(char)\n",
    "        elif final_str:\n",
    "            final_str.pop()\n",
    "    return final_str\n",
    "\n",
    "def test1(s, t):\n",
    "    s1 = test(s)\n",
    "    t1 = test(t)\n",
    "    return s1 == t1\n",
    "\n",
    "s = \"ab#c\"\n",
    "t = \"ad#c\"\n",
    "\n",
    "print(test1(s,t))"
   ]
  },
  {
   "cell_type": "code",
   "execution_count": 4,
   "id": "eb823117",
   "metadata": {},
   "outputs": [
    {
     "name": "stdout",
     "output_type": "stream",
     "text": [
      "True\n"
     ]
    }
   ],
   "source": [
    "# Question 8\n",
    "# You are given an array coordinates, coordinates[i] = [x, y], where [x, y] represents the coordinate of a point.\n",
    "# Check if these points make a straight line in the XY plane.\n",
    "\n",
    "# Example 1:\n",
    "# Input: coordinates = [[1,2],[2,3],[3,4],[4,5],[5,6],[6,7]]\n",
    "# Output: true\n",
    "\n",
    "def test(mat):\n",
    "    n = len(mat)\n",
    "    if n < 2:\n",
    "        return False\n",
    "    m = len(mat[0])\n",
    "    j,k,i = m-1,0,0\n",
    "    \n",
    "    while( i < n-1):\n",
    "        # check last element of row == first element os next row\n",
    "        if mat[i][j] == mat[i+1][k]:\n",
    "            i+=1\n",
    "        else:\n",
    "            return False\n",
    "    if i == n-1:\n",
    "        return True\n",
    "    return False\n",
    "coordinates = [[1,2],[2,3],[3,4],[4,5],[5,6],[6,7]]\n",
    "print(test(coordinates))"
   ]
  },
  {
   "cell_type": "code",
   "execution_count": null,
   "id": "d41b3395",
   "metadata": {},
   "outputs": [],
   "source": []
  }
 ],
 "metadata": {
  "kernelspec": {
   "display_name": "Python 3 (ipykernel)",
   "language": "python",
   "name": "python3"
  },
  "language_info": {
   "codemirror_mode": {
    "name": "ipython",
    "version": 3
   },
   "file_extension": ".py",
   "mimetype": "text/x-python",
   "name": "python",
   "nbconvert_exporter": "python",
   "pygments_lexer": "ipython3",
   "version": "3.10.5"
  }
 },
 "nbformat": 4,
 "nbformat_minor": 5
}
