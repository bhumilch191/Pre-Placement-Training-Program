{
 "cells": [
  {
   "cell_type": "code",
   "execution_count": 1,
   "id": "01822db1",
   "metadata": {},
   "outputs": [
    {
     "name": "stdout",
     "output_type": "stream",
     "text": [
      "[1, 3, 12, 0, 0] [0]\n"
     ]
    }
   ],
   "source": [
    "def test(nums):\n",
    "    for i in range(len(nums)):\n",
    "        for j in range(i+1,len(nums)):\n",
    "            if(nums[i] < nums[j]):\n",
    "                # Swap element if indexed element is zero.\n",
    "                if nums[i] == 0 :\n",
    "                    nums[i],nums[j]=nums[j],nums[i]\n",
    "                    i+=1\n",
    "            if (nums[j] == 0):\n",
    "                j+=1\n",
    "    return nums\n",
    "nums = [0,1,0,3,12]\n",
    "num = [0]\n",
    "print(test(nums),test(num))"
   ]
  },
  {
   "cell_type": "code",
   "execution_count": null,
   "id": "e14b3be3",
   "metadata": {},
   "outputs": [],
   "source": []
  }
 ],
 "metadata": {
  "kernelspec": {
   "display_name": "Python 3 (ipykernel)",
   "language": "python",
   "name": "python3"
  },
  "language_info": {
   "codemirror_mode": {
    "name": "ipython",
    "version": 3
   },
   "file_extension": ".py",
   "mimetype": "text/x-python",
   "name": "python",
   "nbconvert_exporter": "python",
   "pygments_lexer": "ipython3",
   "version": "3.10.5"
  }
 },
 "nbformat": 4,
 "nbformat_minor": 5
}
