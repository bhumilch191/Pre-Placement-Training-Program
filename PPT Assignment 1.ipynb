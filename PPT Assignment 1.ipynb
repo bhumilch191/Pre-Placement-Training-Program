{
 "cells": [
  {
   "cell_type": "markdown",
   "id": "544ec0a4",
   "metadata": {},
   "source": [
    "### 1. Write a Python program to reverse a string without using any built-in string reversal functions."
   ]
  },
  {
   "cell_type": "code",
   "execution_count": 1,
   "id": "cacebab8",
   "metadata": {},
   "outputs": [
    {
     "data": {
      "text/plain": [
       "'dlroW olleH'"
      ]
     },
     "execution_count": 1,
     "metadata": {},
     "output_type": "execute_result"
    }
   ],
   "source": [
    "stg = 'Hello World'\n",
    "stg[::-1]"
   ]
  },
  {
   "cell_type": "markdown",
   "id": "12d74f59",
   "metadata": {},
   "source": [
    "### 2. Implement a function to check if a given string is a palindrome."
   ]
  },
  {
   "cell_type": "code",
   "execution_count": 2,
   "id": "2cce5c12",
   "metadata": {},
   "outputs": [
    {
     "name": "stdout",
     "output_type": "stream",
     "text": [
      "String is palindrome\n"
     ]
    }
   ],
   "source": [
    "stg = 'bob'\n",
    "if stg == stg[::-1]:\n",
    "    print('String is palindrome')\n",
    "else:\n",
    "    print('String is not palindrome')"
   ]
  },
  {
   "cell_type": "markdown",
   "id": "77fc355f",
   "metadata": {},
   "source": [
    "### 3. Write a program to find the largest element in a given list."
   ]
  },
  {
   "cell_type": "code",
   "execution_count": 3,
   "id": "88e0257b",
   "metadata": {},
   "outputs": [
    {
     "data": {
      "text/plain": [
       "64"
      ]
     },
     "execution_count": 3,
     "metadata": {},
     "output_type": "execute_result"
    }
   ],
   "source": [
    "lst = [45,54,22,64,23]\n",
    "j=-1\n",
    "i=0\n",
    "while(i < len(lst)-1):\n",
    "    if lst[i] > lst[j]:\n",
    "        j-=1\n",
    "    else:\n",
    "        i+=1\n",
    "max(lst[i],lst[j])"
   ]
  },
  {
   "cell_type": "markdown",
   "id": "99b917f6",
   "metadata": {},
   "source": [
    "### 4. Implement a function to count the occurrence of each element in a list."
   ]
  },
  {
   "cell_type": "code",
   "execution_count": 4,
   "id": "788d7b6a",
   "metadata": {},
   "outputs": [
    {
     "data": {
      "text/plain": [
       "{1: 1, 2: 2, 3: 2, 5: 3}"
      ]
     },
     "execution_count": 4,
     "metadata": {},
     "output_type": "execute_result"
    }
   ],
   "source": [
    "def test(lst):\n",
    "    dic = {}\n",
    "    for i in lst:\n",
    "        c = lst.count(i)\n",
    "        dic[i] = c\n",
    "    return dic\n",
    "lst = [1,2,3,3,2,5,5,5]\n",
    "test(lst)"
   ]
  },
  {
   "cell_type": "markdown",
   "id": "ee5a1e96",
   "metadata": {},
   "source": [
    "### 5. Write a Python program to find the second largest number in a list."
   ]
  },
  {
   "cell_type": "code",
   "execution_count": 5,
   "id": "7dbb528c",
   "metadata": {},
   "outputs": [
    {
     "data": {
      "text/plain": [
       "54"
      ]
     },
     "execution_count": 5,
     "metadata": {},
     "output_type": "execute_result"
    }
   ],
   "source": [
    "lst = [45,54,22,64,23]\n",
    "lst.remove(max(lst))\n",
    "max(lst)"
   ]
  },
  {
   "cell_type": "markdown",
   "id": "c10a1155",
   "metadata": {},
   "source": [
    "### 6. Implement a function to remove duplicate elements from a list."
   ]
  },
  {
   "cell_type": "code",
   "execution_count": 6,
   "id": "5b57631b",
   "metadata": {},
   "outputs": [
    {
     "data": {
      "text/plain": [
       "[1, 2, 3, 5]"
      ]
     },
     "execution_count": 6,
     "metadata": {},
     "output_type": "execute_result"
    }
   ],
   "source": [
    "lst = [1,2,3,3,2,5,5,5]\n",
    "list(set(lst))"
   ]
  },
  {
   "cell_type": "markdown",
   "id": "4f574b69",
   "metadata": {},
   "source": [
    "### 7. Write a program to calculate the factorial of a given number."
   ]
  },
  {
   "cell_type": "code",
   "execution_count": 7,
   "id": "5a0009b3",
   "metadata": {},
   "outputs": [
    {
     "name": "stdout",
     "output_type": "stream",
     "text": [
      "6\n"
     ]
    }
   ],
   "source": [
    "n = 3\n",
    "k=1\n",
    "if n == 0 or n == 1:\n",
    "    print(k)\n",
    "else:\n",
    "    for i in range(1,n+1):\n",
    "        k*=i\n",
    "    print(k)"
   ]
  },
  {
   "cell_type": "markdown",
   "id": "384fab5f",
   "metadata": {},
   "source": [
    "### 8. Implement a function to check if a given number is prime."
   ]
  },
  {
   "cell_type": "code",
   "execution_count": 8,
   "id": "8338015d",
   "metadata": {},
   "outputs": [
    {
     "data": {
      "text/plain": [
       "'Given number is prime'"
      ]
     },
     "execution_count": 8,
     "metadata": {},
     "output_type": "execute_result"
    }
   ],
   "source": [
    "def num_prime(n):\n",
    "    if(n>1):\n",
    "        for i in range(1,n+1):\n",
    "            if n%i==0:\n",
    "                return 'Given number is prime'\n",
    "    else:\n",
    "        return 'Given number is not prime'\n",
    "num_prime(3)"
   ]
  },
  {
   "cell_type": "markdown",
   "id": "032d34db",
   "metadata": {},
   "source": [
    "### 9. Write a Python program to sort a list of integers in ascending order."
   ]
  },
  {
   "cell_type": "code",
   "execution_count": 9,
   "id": "ceeb80a3",
   "metadata": {},
   "outputs": [
    {
     "data": {
      "text/plain": [
       "[2, 2, 3, 3, 4, 4, 5, 7, 7, 8]"
      ]
     },
     "execution_count": 9,
     "metadata": {},
     "output_type": "execute_result"
    }
   ],
   "source": [
    "lst = [2,4,2,5,7,3,8,4,7,3]\n",
    "lst.sort()\n",
    "lst"
   ]
  },
  {
   "cell_type": "markdown",
   "id": "113d6d9b",
   "metadata": {},
   "source": [
    "### 10. Implement a function to find the sum of all numbers in a list."
   ]
  },
  {
   "cell_type": "code",
   "execution_count": 10,
   "id": "3b242171",
   "metadata": {},
   "outputs": [
    {
     "data": {
      "text/plain": [
       "45"
      ]
     },
     "execution_count": 10,
     "metadata": {},
     "output_type": "execute_result"
    }
   ],
   "source": [
    "lst = [2,4,2,5,7,3,8,4,7,3]\n",
    "sum(lst)"
   ]
  },
  {
   "cell_type": "markdown",
   "id": "16a59533",
   "metadata": {},
   "source": [
    "### 11. Write a program to find the common elements between two lists."
   ]
  },
  {
   "cell_type": "code",
   "execution_count": 11,
   "id": "ceb0c942",
   "metadata": {},
   "outputs": [
    {
     "data": {
      "text/plain": [
       "[3, 4, 5]"
      ]
     },
     "execution_count": 11,
     "metadata": {},
     "output_type": "execute_result"
    }
   ],
   "source": [
    "lst1 = [1,2,3,4,5]\n",
    "lst2 = [4,5,3,6,7]\n",
    "\n",
    "list(set(lst1).intersection(lst2))"
   ]
  },
  {
   "cell_type": "markdown",
   "id": "7370913b",
   "metadata": {},
   "source": [
    "### 12. Implement a function to check if a given string is an anagram of another string."
   ]
  },
  {
   "cell_type": "code",
   "execution_count": 12,
   "id": "94ce3217",
   "metadata": {},
   "outputs": [
    {
     "data": {
      "text/plain": [
       "True"
      ]
     },
     "execution_count": 12,
     "metadata": {},
     "output_type": "execute_result"
    }
   ],
   "source": [
    "def test(s1,s2):\n",
    "    if len(s1) != len(s2):\n",
    "        return False\n",
    "    \n",
    "    n = len(s1)\n",
    "    i=0\n",
    "    while(i < n):\n",
    "        if s1[i] not in s2:\n",
    "            return False\n",
    "        else:\n",
    "            i+=1\n",
    "    return True\n",
    "\n",
    "s1 = 'listen'\n",
    "s2 = 'silent'\n",
    "test(s1,s2)"
   ]
  },
  {
   "cell_type": "markdown",
   "id": "0ed70dff",
   "metadata": {},
   "source": [
    "### 13. Write a Python program to generate all permutations of a given string."
   ]
  },
  {
   "cell_type": "code",
   "execution_count": 13,
   "id": "6b3eda14",
   "metadata": {},
   "outputs": [
    {
     "data": {
      "text/plain": [
       "True"
      ]
     },
     "execution_count": 13,
     "metadata": {},
     "output_type": "execute_result"
    }
   ],
   "source": [
    "def test(s1,s2):\n",
    "    if len(s1) != len(s2):\n",
    "        return False\n",
    "    \n",
    "    n = len(s1)\n",
    "    i=0\n",
    "    while(i < n):\n",
    "        if s1[i] not in s2:\n",
    "            return False\n",
    "        else:\n",
    "            i+=1\n",
    "    return True\n",
    "\n",
    "s1 = 'abcd'\n",
    "s2 = 'dcab'\n",
    "test(s1,s2)"
   ]
  },
  {
   "cell_type": "markdown",
   "id": "45013707",
   "metadata": {},
   "source": [
    "### 14. Implement a function to calculate the Fibonacci sequence up to a given number of terms."
   ]
  },
  {
   "cell_type": "code",
   "execution_count": 14,
   "id": "4ae8cd01",
   "metadata": {},
   "outputs": [
    {
     "name": "stdout",
     "output_type": "stream",
     "text": [
      "Number of terms is 8\n"
     ]
    }
   ],
   "source": [
    "def fibo(n):\n",
    "    n1,n2 = 0,1\n",
    "    count = 0\n",
    "    if n <= 0:\n",
    "        return 'Enter positive number'\n",
    "    elif n == 1:\n",
    "        return n1\n",
    "    else:\n",
    "        while count < n:\n",
    "            c = n1+n2\n",
    "            n1 = n2\n",
    "            n2 = c\n",
    "            count +=1\n",
    "    return count\n",
    "n = 10\n",
    "x = fibo(8)\n",
    "print('Number of terms is %s'% x)"
   ]
  },
  {
   "cell_type": "markdown",
   "id": "170aa614",
   "metadata": {},
   "source": [
    "### 15. Write a program to find the median of a list of numbers."
   ]
  },
  {
   "cell_type": "code",
   "execution_count": 15,
   "id": "ef1210cf",
   "metadata": {},
   "outputs": [
    {
     "data": {
      "text/plain": [
       "43.0"
      ]
     },
     "execution_count": 15,
     "metadata": {},
     "output_type": "execute_result"
    }
   ],
   "source": [
    "import numpy as np\n",
    "lst = [43,23,24,56,45,36,43]\n",
    "np.median(lst)"
   ]
  },
  {
   "cell_type": "markdown",
   "id": "664dfc4b",
   "metadata": {},
   "source": [
    "### 16. Implement a function to check if a given list is sorted in non-decreasing order."
   ]
  },
  {
   "cell_type": "code",
   "execution_count": 16,
   "id": "39c0cb56",
   "metadata": {},
   "outputs": [
    {
     "data": {
      "text/plain": [
       "False"
      ]
     },
     "execution_count": 16,
     "metadata": {},
     "output_type": "execute_result"
    }
   ],
   "source": [
    "def Sorted_Or_Not(lst):\n",
    "    if lst == sorted(lst,reverse=True):\n",
    "        return True\n",
    "    else:\n",
    "        return False\n",
    "\n",
    "lst = [43,23,24,56,45,36,43]\n",
    "Sorted_Or_Not(lst)"
   ]
  },
  {
   "cell_type": "markdown",
   "id": "bae27964",
   "metadata": {},
   "source": [
    "### 17. Write a Python program to find the intersection of two lists."
   ]
  },
  {
   "cell_type": "code",
   "execution_count": 17,
   "id": "78a47e86",
   "metadata": {},
   "outputs": [
    {
     "name": "stdout",
     "output_type": "stream",
     "text": [
      "intersection of two list: [3, 4, 5]\n"
     ]
    }
   ],
   "source": [
    "lst1 = [1,2,3,4,5]\n",
    "lst2 = [4,5,3,6,7]\n",
    "print('intersection of two list:',list(set(lst1).intersection(lst2)))"
   ]
  },
  {
   "cell_type": "markdown",
   "id": "c3b7b728",
   "metadata": {},
   "source": [
    "### 18. Implement a function to find the maximum subarray sum in a given list."
   ]
  },
  {
   "cell_type": "code",
   "execution_count": 18,
   "id": "ad06e9f3",
   "metadata": {},
   "outputs": [
    {
     "data": {
      "text/plain": [
       "9"
      ]
     },
     "execution_count": 18,
     "metadata": {},
     "output_type": "execute_result"
    }
   ],
   "source": [
    "def max_subarray_sum(arr):\n",
    "    if not arr:  # If the list is empty, return 0\n",
    "        return 0\n",
    "\n",
    "    current_sum = max_sum = arr[0]\n",
    "    for num in arr[1:]:\n",
    "        \n",
    "        current_sum = max(num, current_sum + num)\n",
    "        max_sum = max(max_sum, current_sum)\n",
    "        \n",
    "    return max_sum\n",
    "\n",
    "lst = [1,2,-4,5,4]\n",
    "max_subarray_sum(lst)"
   ]
  },
  {
   "cell_type": "markdown",
   "id": "bfc9abf8",
   "metadata": {},
   "source": [
    "### 19. Write a program to remove all vowels from a given string."
   ]
  },
  {
   "cell_type": "code",
   "execution_count": 19,
   "id": "f64bf3a0",
   "metadata": {},
   "outputs": [
    {
     "name": "stdout",
     "output_type": "stream",
     "text": [
      "bdjkc\n"
     ]
    }
   ],
   "source": [
    "vowels = ['a','e','i','o','u','A','E','I','O','U']\n",
    "stg = 'bdijkcoa'\n",
    "stg1 = ''\n",
    "for i in range(len(stg)):\n",
    "    if stg[i] not in vowels:\n",
    "        stg1 += stg[i] \n",
    "print(stg1)"
   ]
  },
  {
   "cell_type": "markdown",
   "id": "b09a7638",
   "metadata": {},
   "source": [
    "### 20. Implement a function to reverse the order of words in a given sentence."
   ]
  },
  {
   "cell_type": "code",
   "execution_count": 20,
   "id": "45bae1f7",
   "metadata": {},
   "outputs": [
    {
     "data": {
      "text/plain": [
       "'yad lufituaeb si yadoT'"
      ]
     },
     "execution_count": 20,
     "metadata": {},
     "output_type": "execute_result"
    }
   ],
   "source": [
    "def reversesentc(sent):\n",
    "    return sent[::-1]\n",
    "sent = 'Today is beautiful day'\n",
    "reversesentc(sent)"
   ]
  },
  {
   "cell_type": "markdown",
   "id": "896975db",
   "metadata": {},
   "source": [
    "### 21. Write a Python program to check if two strings are anagrams of each other."
   ]
  },
  {
   "cell_type": "code",
   "execution_count": 21,
   "id": "adc9e028",
   "metadata": {},
   "outputs": [
    {
     "data": {
      "text/plain": [
       "True"
      ]
     },
     "execution_count": 21,
     "metadata": {},
     "output_type": "execute_result"
    }
   ],
   "source": [
    "def anagram(s1,s2):\n",
    "    if len(s1) != len(s2):\n",
    "        return False\n",
    "    \n",
    "    n = len(s1)\n",
    "    i=0\n",
    "    while(i < n):\n",
    "        if s1[i] not in s2:\n",
    "            return False\n",
    "        else:\n",
    "            i+=1\n",
    "    return True\n",
    "\n",
    "s1 = 'abcd'\n",
    "s2 = 'dcab'\n",
    "anagram(s1,s2)"
   ]
  },
  {
   "cell_type": "markdown",
   "id": "5210cf31",
   "metadata": {},
   "source": [
    "### 23. Write a program to find the prime factors of a given number."
   ]
  },
  {
   "cell_type": "code",
   "execution_count": 22,
   "id": "8763073a",
   "metadata": {},
   "outputs": [
    {
     "data": {
      "text/plain": [
       "[2, 2, 2, 3]"
      ]
     },
     "execution_count": 22,
     "metadata": {},
     "output_type": "execute_result"
    }
   ],
   "source": [
    "def prime_factors(number):\n",
    "    factors = []\n",
    "    divisor = 2\n",
    "\n",
    "    while divisor <= number:\n",
    "        if number % divisor == 0:\n",
    "            factors.append(divisor)\n",
    "            number /= divisor\n",
    "        else:\n",
    "            divisor += 1\n",
    "\n",
    "    return factors\n",
    "prime_factors(24)"
   ]
  },
  {
   "cell_type": "markdown",
   "id": "eadd7431",
   "metadata": {},
   "source": [
    "### 24. Implement a function to check if a given number is a power of two."
   ]
  },
  {
   "cell_type": "code",
   "execution_count": 23,
   "id": "bca9914d",
   "metadata": {},
   "outputs": [
    {
     "data": {
      "text/plain": [
       "True"
      ]
     },
     "execution_count": 23,
     "metadata": {},
     "output_type": "execute_result"
    }
   ],
   "source": [
    "def poweroftwo(number):\n",
    "    if number <= 0:\n",
    "        return False\n",
    "\n",
    "    while number > 1:\n",
    "        if number % 2 != 0:\n",
    "            return False\n",
    "        number //= 2\n",
    "\n",
    "    return True\n",
    "poweroftwo(8)"
   ]
  },
  {
   "cell_type": "markdown",
   "id": "1e49fc71",
   "metadata": {},
   "source": [
    "### 25. Write a Python program to merge two sorted lists into a single sorted list."
   ]
  },
  {
   "cell_type": "code",
   "execution_count": 24,
   "id": "6c8cc738",
   "metadata": {},
   "outputs": [
    {
     "data": {
      "text/plain": [
       "[1, 2, 3, 4, 5, 6, 7, 8, 9]"
      ]
     },
     "execution_count": 24,
     "metadata": {},
     "output_type": "execute_result"
    }
   ],
   "source": [
    "def merge_sorted_lists(lst1, lst2):\n",
    "    list1 = sorted(lst1)\n",
    "    list2 = sorted(lst2)\n",
    "    merged_list = []\n",
    "    i = j = 0\n",
    "    while i < len(list1):\n",
    "        merged_list.append(list1[i])\n",
    "        i += 1\n",
    "\n",
    "    while j < len(list2):\n",
    "        merged_list.append(list2[j])\n",
    "        j += 1\n",
    "\n",
    "    return merged_list\n",
    "lst1 = [1,2,3,4,5]\n",
    "lst2 = [6,7,8,9]\n",
    "merge_sorted_lists(lst1,lst2)"
   ]
  },
  {
   "cell_type": "markdown",
   "id": "2badb738",
   "metadata": {},
   "source": [
    "### 26. Implement a function to find the mode of a list of numbers."
   ]
  },
  {
   "cell_type": "code",
   "execution_count": 25,
   "id": "b99e30e5",
   "metadata": {},
   "outputs": [
    {
     "data": {
      "text/plain": [
       "[4]"
      ]
     },
     "execution_count": 25,
     "metadata": {},
     "output_type": "execute_result"
    }
   ],
   "source": [
    "from collections import Counter\n",
    "\n",
    "def find_mode(numbers):\n",
    "    if not numbers:\n",
    "        return None\n",
    "\n",
    "    count = Counter(numbers)\n",
    "    max_count = max(count.values())\n",
    "    modes = [num for num, freq in count.items() if freq == max_count]\n",
    "\n",
    "    if len(modes) == len(numbers):\n",
    "        return None\n",
    "\n",
    "    return modes\n",
    "find_mode([1, 2, 2, 3, 3, 3, 4, 4, 4, 4])"
   ]
  },
  {
   "cell_type": "markdown",
   "id": "5f0eb3f9",
   "metadata": {},
   "source": [
    "### 27. Write a program to find the greatest common divisor (GCD) of two numbers."
   ]
  },
  {
   "cell_type": "code",
   "execution_count": 26,
   "id": "53577538",
   "metadata": {},
   "outputs": [
    {
     "data": {
      "text/plain": [
       "12"
      ]
     },
     "execution_count": 26,
     "metadata": {},
     "output_type": "execute_result"
    }
   ],
   "source": [
    "def gcd(a, b):\n",
    "    while b != 0:\n",
    "        a, b = b, a % b\n",
    "    return a\n",
    "gcd(24,36)"
   ]
  },
  {
   "cell_type": "markdown",
   "id": "bfd223ab",
   "metadata": {},
   "source": [
    "### 30. Implement a function to find the minimum element in a rotated sorted list."
   ]
  },
  {
   "cell_type": "code",
   "execution_count": 27,
   "id": "bce430bf",
   "metadata": {},
   "outputs": [
    {
     "data": {
      "text/plain": [
       "1"
      ]
     },
     "execution_count": 27,
     "metadata": {},
     "output_type": "execute_result"
    }
   ],
   "source": [
    "def minelement(lst):\n",
    "    if not lst:\n",
    "        return None\n",
    "\n",
    "    left = 0\n",
    "    right = len(lst) - 1\n",
    "\n",
    "    while left < right:\n",
    "        mid = left + (right - left) // 2\n",
    "\n",
    "        if lst[mid] > lst[right]:\n",
    "            left = mid + 1\n",
    "        else:\n",
    "            right = mid\n",
    "\n",
    "    return lst[left]\n",
    "lst = [3,2,5,4,9,6,1]\n",
    "minelement(lst)"
   ]
  },
  {
   "cell_type": "markdown",
   "id": "964a2440",
   "metadata": {},
   "source": [
    "### 31. Write a program to find the sum of all even numbers in a list."
   ]
  },
  {
   "cell_type": "code",
   "execution_count": 28,
   "id": "221f00d6",
   "metadata": {},
   "outputs": [
    {
     "data": {
      "text/plain": [
       "12"
      ]
     },
     "execution_count": 28,
     "metadata": {},
     "output_type": "execute_result"
    }
   ],
   "source": [
    "def sumofevennumbers(lst):\n",
    "    sum_even = 0\n",
    "\n",
    "    for num in lst:\n",
    "        if num % 2 == 0:\n",
    "            sum_even += num\n",
    "\n",
    "    return sum_even\n",
    "lst = [3,2,5,4,9,6,1]\n",
    "sumofevennumbers(lst)"
   ]
  },
  {
   "cell_type": "markdown",
   "id": "e5f7ae5f",
   "metadata": {},
   "source": [
    "### 32. Implement a function to calculate the power of a number using recursion."
   ]
  },
  {
   "cell_type": "code",
   "execution_count": 29,
   "id": "acdfdc06",
   "metadata": {},
   "outputs": [
    {
     "data": {
      "text/plain": [
       "8"
      ]
     },
     "execution_count": 29,
     "metadata": {},
     "output_type": "execute_result"
    }
   ],
   "source": [
    "def power(base, exponent):\n",
    "    if exponent == 0:\n",
    "        return 1\n",
    "    elif exponent < 0:\n",
    "        return 1 / power(base, -exponent)\n",
    "    else:\n",
    "        return base * power(base, exponent - 1)\n",
    "power(2,3)"
   ]
  },
  {
   "cell_type": "markdown",
   "id": "85d6d481",
   "metadata": {},
   "source": [
    "### 33. Write a Python program to remove duplicates from a list while preserving the order."
   ]
  },
  {
   "cell_type": "code",
   "execution_count": 30,
   "id": "6f6a8be0",
   "metadata": {},
   "outputs": [
    {
     "data": {
      "text/plain": [
       "[1, 2, 3, 4, 6, 5, 7]"
      ]
     },
     "execution_count": 30,
     "metadata": {},
     "output_type": "execute_result"
    }
   ],
   "source": [
    "def remove_duplicates_preserve_order(lst):\n",
    "    seen = set()\n",
    "    unique = []\n",
    "\n",
    "    for i in lst:\n",
    "        if i not in seen:\n",
    "            unique.append(i)\n",
    "            seen.add(i)\n",
    "\n",
    "    return unique\n",
    "lst = [1,2,3,4,3,2,6,5,7,1,2,3]\n",
    "remove_duplicates_preserve_order(lst)"
   ]
  },
  {
   "cell_type": "markdown",
   "id": "47c435c0",
   "metadata": {},
   "source": [
    "### 35. Write a program to check if a given number is a perfect square."
   ]
  },
  {
   "cell_type": "code",
   "execution_count": 31,
   "id": "dde344d3",
   "metadata": {},
   "outputs": [
    {
     "data": {
      "text/plain": [
       "True"
      ]
     },
     "execution_count": 31,
     "metadata": {},
     "output_type": "execute_result"
    }
   ],
   "source": [
    "def perfect_square(number):\n",
    "    if number < 0:\n",
    "        return False\n",
    "\n",
    "    root = int(number ** 0.5)\n",
    "    return root * root == number\n",
    "perfect_square(64)"
   ]
  },
  {
   "cell_type": "code",
   "execution_count": null,
   "id": "e29119fa",
   "metadata": {},
   "outputs": [],
   "source": []
  }
 ],
 "metadata": {
  "kernelspec": {
   "display_name": "Python 3 (ipykernel)",
   "language": "python",
   "name": "python3"
  },
  "language_info": {
   "codemirror_mode": {
    "name": "ipython",
    "version": 3
   },
   "file_extension": ".py",
   "mimetype": "text/x-python",
   "name": "python",
   "nbconvert_exporter": "python",
   "pygments_lexer": "ipython3",
   "version": "3.10.5"
  }
 },
 "nbformat": 4,
 "nbformat_minor": 5
}
