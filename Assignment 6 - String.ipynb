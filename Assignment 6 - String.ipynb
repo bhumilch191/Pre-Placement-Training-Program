{
 "cells": [
  {
   "cell_type": "code",
   "execution_count": 1,
   "id": "db60ff27",
   "metadata": {},
   "outputs": [
    {
     "name": "stdout",
     "output_type": "stream",
     "text": [
      "[0, 4, 1, 3, 2]\n"
     ]
    }
   ],
   "source": [
    "# Question 1\n",
    "\n",
    "# A permutation perm of n + 1 integers of all the integers in the range [0, n] can be \n",
    "# represented as a string s of length n where:\n",
    "\n",
    "# - s[i] == 'I' if perm[i] < perm[i + 1], and\n",
    "# - s[i] == 'D' if perm[i] > perm[i + 1].\n",
    "\n",
    "# Given a string s, reconstruct the permutation perm and return it. If there are multiple \n",
    "# valid permutations perm, return any of them.\n",
    "\n",
    "# Example 1:\n",
    "\n",
    "# Input: s = \"IDID\"\n",
    "# Output:[0,4,1,3,2]\n",
    "\n",
    "def test(s):\n",
    "    n = len(s)\n",
    "    perm = []\n",
    "    low, high = 0, n\n",
    "\n",
    "    for ch in s:\n",
    "        if ch == 'I':\n",
    "            perm.append(low)\n",
    "            low += 1\n",
    "        else:\n",
    "            perm.append(high)\n",
    "            high -= 1\n",
    "    \n",
    "    perm.append(low)\n",
    "    return perm\n",
    "s = \"IDID\"\n",
    "print(test(s))"
   ]
  },
  {
   "cell_type": "code",
   "execution_count": 2,
   "id": "70a8c248",
   "metadata": {},
   "outputs": [
    {
     "name": "stdout",
     "output_type": "stream",
     "text": [
      "True\n"
     ]
    }
   ],
   "source": [
    "# Question 2.\n",
    "\n",
    "# You are given an m x n integer matrix matrix with the following two properties:\n",
    "\n",
    "# - Each row is sorted in non-decreasing order.\n",
    "# - The first integer of each row is greater than the last integer of the previous row.\n",
    "\n",
    "# Given an integer target, return true if target is in matrix or false otherwise.\n",
    "\n",
    "# You must write a solution in O(log(m * n)) time complexity.\n",
    "\n",
    "# Example 1:\n",
    "# Input: matrix = [[1,3,5,7],[10,11,16,20],[23,30,34,60]], target = 3\n",
    "\n",
    "# Output: true\n",
    "\n",
    "def test(mat,t,l=0,h=0):\n",
    "    m = len(mat)\n",
    "    n = len(mat[0])\n",
    "    if m == 0:\n",
    "        return False\n",
    "    l = 0\n",
    "    h = m*n - 1\n",
    "    while (l <= h):\n",
    "        mid = l + (h-l)//2\n",
    "        mid_el = mat[mid//n][mid%n]\n",
    "        if mid_el == t:\n",
    "            return True\n",
    "        elif mid_el < t:\n",
    "            l = mid+1\n",
    "            #return test(mat,t,l = mid+1,h = 0)\n",
    "        else:\n",
    "            h = mid-1\n",
    "            #return test(mat,t,l,h = mid-1)\n",
    "    return False\n",
    "\n",
    "matrix = [[1,3,5,7],[10,11,16,20],[23,30,34,60]]\n",
    "target = 3\n",
    "print(test(matrix,target))"
   ]
  },
  {
   "cell_type": "code",
   "execution_count": 3,
   "id": "4bf4e9c9",
   "metadata": {},
   "outputs": [
    {
     "name": "stdout",
     "output_type": "stream",
     "text": [
      "False\n"
     ]
    }
   ],
   "source": [
    "# Question 3\n",
    "\n",
    "# Given an array of integers arr, return *true if and only if it is a valid mountain array*.\n",
    "\n",
    "# Recall that arr is a mountain array if and only if:\n",
    "\n",
    "# - arr.length >= 3\n",
    "# - There exists some i with 0 < i < arr.length - 1 such that:\n",
    "#     - arr[0] < arr[1] < ... < arr[i - 1] < arr[i]\n",
    "#     - arr[i] > arr[i + 1] > ... > arr[arr.length - 1]\n",
    "\n",
    "    \n",
    "# Example 1:\n",
    "\n",
    "# Input: arr = [2,1]\n",
    "\n",
    "# Output:false\n",
    "\n",
    "def test(arr):\n",
    "    n = len(arr)\n",
    "    if n <= 3:\n",
    "        return False\n",
    "    top = -1\n",
    "    for i in range(n):\n",
    "        if arr[i] > arr[i-1] and arr[i] > arr[i+1]:\n",
    "            top = i\n",
    "            break\n",
    "        \n",
    "    if top == -1 or top == 0 or top == n-1:\n",
    "        return False\n",
    "        \n",
    "    for i in range(top-1):\n",
    "        if arr[i] >= arr[i+1]:\n",
    "            return False\n",
    "    for j in range(top,n-1):\n",
    "        if arr[j] <= arr[j+1]:\n",
    "            return False\n",
    "    return True\n",
    "\n",
    "arr=[2,1]\n",
    "print(test(arr))"
   ]
  },
  {
   "cell_type": "code",
   "execution_count": 4,
   "id": "cc76cc24",
   "metadata": {},
   "outputs": [
    {
     "name": "stdout",
     "output_type": "stream",
     "text": [
      "2\n"
     ]
    }
   ],
   "source": [
    "# Question 4\n",
    "\n",
    "# Given a binary array nums, return the maximum length of a contiguous subarray with an equal number of* 0 *and* 1.\n",
    "\n",
    "# Example 1:\n",
    "# Input: nums = [0,1]\n",
    "# Output: 2\n",
    "\n",
    "# Explanation:\n",
    "# [0, 1] is the longest contiguous subarray with an equal number of 0 and 1.\n",
    "\n",
    "def test(num):\n",
    "    n0 = 0\n",
    "    n1 = 0\n",
    "    for i in range(len(num)):\n",
    "        if num[i] == 0:\n",
    "            n0+=1\n",
    "        elif num[i] == 1:\n",
    "            n1+=1\n",
    "    if n0 < n1:\n",
    "        n = n1 - n0\n",
    "        n1 -= n\n",
    "        return n1 * 2\n",
    "    elif n0 > n1:\n",
    "        k = n0 - n1\n",
    "        n0 -= k\n",
    "        return n0 *2\n",
    "    return n0 *2\n",
    "nums = [0,1]\n",
    "print(test(nums))"
   ]
  },
  {
   "cell_type": "code",
   "execution_count": 5,
   "id": "ac184886",
   "metadata": {},
   "outputs": [
    {
     "name": "stdout",
     "output_type": "stream",
     "text": [
      "[1, 3, 4]\n"
     ]
    }
   ],
   "source": [
    "# Question 6\n",
    "\n",
    "# An integer array original is transformed into a doubled array changed by appending twice the value\n",
    "# of every element in original, and then randomly shuffling the resulting array.\n",
    "\n",
    "# Given an array changed, return original if changed is a doubled array. If changed is not a doubled\n",
    "# array, return an empty array. The elements in original : be returned in any order.\n",
    "\n",
    "# Example 1:\n",
    "# Input: changed = [1,3,4,2,6,8]\n",
    "# Output: [1,3,4]\n",
    "\n",
    "# Explanation: One possible original array could be [1,3,4]:\n",
    "\n",
    "# - Twice the value of 1 is 1 * 2 = 2\n",
    "# - Twice the value of 3 is 3 * 2 = 6.\n",
    "# - Twice the value of 4 is 4 * 2 = 8.\n",
    "\n",
    "# Other original arrays could be [4,3,1] or [3,1,4].\n",
    "def test(arr):\n",
    "    original = []\n",
    "    index = -1\n",
    "    if len(arr)%2 != 0:\n",
    "        return []\n",
    "    for i in arr:\n",
    "        if i*2 in arr:\n",
    "            original.append(i)\n",
    "            x = i*2\n",
    "            # remove doubled element from arr\n",
    "            for j in range(len(arr)):\n",
    "                if arr[j] == x:\n",
    "                    index = j\n",
    "                    break\n",
    "            for k in range(j,len(arr)-1):\n",
    "                arr[k] = arr[k+1]\n",
    "            arr.pop()\n",
    "            test(arr)\n",
    "        # if not doubled arr\n",
    "        else:\n",
    "            return []\n",
    "    return original\n",
    "changed = [1,3,4,2,6,8]\n",
    "print(test(changed))"
   ]
  },
  {
   "cell_type": "code",
   "execution_count": null,
   "id": "cd793576",
   "metadata": {},
   "outputs": [],
   "source": [
    "# Question 5\n",
    "\n",
    "# The product sum of two equal-length arrays a and b is equal to the sum of a[i] * b[i] for all 0 <= i < a.length (0-indexed).\n",
    "\n",
    "# - For example, if a = [1,2,3,4] and b = [5,2,3,1], the **product sum** would be 1*5 + 2*2 + 3*3 + 4*1 = 22.\n",
    "\n",
    "# Given two arrays nums1 and nums2 of length n, return *the **minimum product sum if you are allowed to\n",
    "# rearrange the order of the elements in* nums1.\n",
    "\n",
    "# Example 1:\n",
    "# Input: nums1 = [5,3,4,2], nums2 = [4,2,2,5]\n",
    "# Output: 40\n",
    "\n",
    "# Explanation:\n",
    "# We can rearrange nums1 to become [3,5,4,2]. The product sum of [3,5,4,2] and [4,2,2,5] is 3*4 + 5*2 + 4*2 + 2*5 = 40.\n",
    "\n",
    "def test(n1,n2):\n",
    "    if len(n1) != len(n2):\n",
    "        return False\n",
    "    lst_sums = []\n",
    "    for i in range(len(n1)):\n",
    "        sums += n1[i]*n2[i]\n",
    "    lst_sums.append(sums)\n",
    "    \n",
    "    j=0\n",
    "    while(j < len(n1)):\n",
    "        n1[j],n1[j+1] = n1[j+1],n1[j]\n",
    "        test(n1,n2)\n",
    "    return min(lst_sums)\n",
    "\n",
    "nums1 = [5,3,4,2]\n",
    "nums2 = [4,2,2,5]\n",
    "print(test(nums1,nums2))\n",
    "'Kernel Dead'"
   ]
  },
  {
   "cell_type": "code",
   "execution_count": null,
   "id": "73896474",
   "metadata": {},
   "outputs": [],
   "source": []
  }
 ],
 "metadata": {
  "kernelspec": {
   "display_name": "Python 3 (ipykernel)",
   "language": "python",
   "name": "python3"
  },
  "language_info": {
   "codemirror_mode": {
    "name": "ipython",
    "version": 3
   },
   "file_extension": ".py",
   "mimetype": "text/x-python",
   "name": "python",
   "nbconvert_exporter": "python",
   "pygments_lexer": "ipython3",
   "version": "3.10.5"
  }
 },
 "nbformat": 4,
 "nbformat_minor": 5
}
