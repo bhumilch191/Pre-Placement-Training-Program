{
 "cells": [
  {
   "cell_type": "code",
   "execution_count": 1,
   "id": "6cde4a2e",
   "metadata": {},
   "outputs": [
    {
     "data": {
      "text/plain": [
       "[2, 4, 6, 8, 10]"
      ]
     },
     "execution_count": 1,
     "metadata": {},
     "output_type": "execute_result"
    }
   ],
   "source": [
    "# 17. Write a function that takes a list of numbers as input and returns a new list containing \n",
    "# only the even numbers from the input list. Use list comprehension to solve this problem.\n",
    "\n",
    "# Example:\n",
    "\n",
    "# Input: [1, 2, 3, 4, 5, 6, 7, 8, 9, 10]\n",
    "\n",
    "# Output: [2, 4, 6, 8, 10]\n",
    "\n",
    "lst = [1, 2, 3, 4, 5, 6, 7, 8, 9, 10]\n",
    "n_lst = [x for x in lst if x%2==0]\n",
    "n_lst"
   ]
  }
 ],
 "metadata": {
  "kernelspec": {
   "display_name": "Python 3 (ipykernel)",
   "language": "python",
   "name": "python3"
  },
  "language_info": {
   "codemirror_mode": {
    "name": "ipython",
    "version": 3
   },
   "file_extension": ".py",
   "mimetype": "text/x-python",
   "name": "python",
   "nbconvert_exporter": "python",
   "pygments_lexer": "ipython3",
   "version": "3.10.5"
  }
 },
 "nbformat": 4,
 "nbformat_minor": 5
}
